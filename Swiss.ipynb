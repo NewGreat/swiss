{
 "cells": [
  {
   "cell_type": "markdown",
   "metadata": {},
   "source": [
    "Swiss Pairs Simulation in Python"
   ]
  },
  {
   "cell_type": "markdown",
   "metadata": {},
   "source": [
    "We start with a simple pure-Python model of a tournament. For now, we're not going to worry about how to simulate multiple runs, much less about performance. We just want to get a basic model working, and then we can refine it."
   ]
  },
  {
   "cell_type": "markdown",
   "metadata": {},
   "source": [
    "We need a few imports. The random module for generating random numbers is crucial."
   ]
  },
  {
   "cell_type": "code",
   "execution_count": 29,
   "metadata": {
    "collapsed": true
   },
   "outputs": [],
   "source": [
    "import random\n",
    "from collections import Counter\n",
    "from itertools import permutations, zip_longest"
   ]
  },
  {
   "cell_type": "code",
   "execution_count": 30,
   "metadata": {
    "collapsed": true
   },
   "outputs": [],
   "source": [
    "# Keep track of the scores - at the start of the tournament, everyone has 0 wins\n",
    "scores = {p:0 for p in range(20)}\n",
    "# Keep track of who has already played who\n",
    "played = set()"
   ]
  },
  {
   "cell_type": "markdown",
   "metadata": {},
   "source": [
    "We need to find opponents for each pair. To do that, we sort pairs by score (and randomly within pairs with the same score),\n",
    "then for each pair in turn assign as opponent the next pair in the list that they have not already played."
   ]
  },
  {
   "cell_type": "code",
   "execution_count": 31,
   "metadata": {
    "collapsed": false
   },
   "outputs": [
    {
     "name": "stdout",
     "output_type": "stream",
     "text": [
      "Ranking: [16, 3, 18, 13, 5, 10, 12, 8, 15, 6, 17, 9, 19, 11, 14, 4, 1, 2, 0, 7]\n",
      "Matching 16... 3, Found 3\n",
      "Matching 18... 13, Found 13\n",
      "Matching 5... 10, Found 10\n",
      "Matching 12... 8, Found 8\n",
      "Matching 15... 6, Found 6\n",
      "Matching 17... 9, Found 9\n",
      "Matching 19... 11, Found 11\n",
      "Matching 14... 4, Found 4\n",
      "Matching 1... 2, Found 2\n",
      "Matching 0... 7, Found 7\n"
     ]
    },
    {
     "data": {
      "text/plain": [
       "[(16, 3),\n",
       " (18, 13),\n",
       " (5, 10),\n",
       " (12, 8),\n",
       " (15, 6),\n",
       " (17, 9),\n",
       " (19, 11),\n",
       " (14, 4),\n",
       " (1, 2),\n",
       " (0, 7)]"
      ]
     },
     "execution_count": 31,
     "metadata": {},
     "output_type": "execute_result"
    }
   ],
   "source": [
    "def pair(scores, played):\n",
    "    pairs = list(sorted(scores.keys()))\n",
    "    def key(p):\n",
    "        # Rank by score, and then randomly for pairs with the same score\n",
    "        return scores[p], random.random()\n",
    "    ranked = list(sorted(pairs, key=key))\n",
    "    games = []\n",
    "    print(\"Ranking:\", ranked)\n",
    "    while ranked:\n",
    "        # Get each pair in turn\n",
    "        p1 = ranked.pop(0)\n",
    "        print(\"Matching\", p1, end=\"... \")\n",
    "        # Find an opponent - the first pair they haven't played yet\n",
    "        for n, p2 in enumerate(ranked):\n",
    "            game = (p1, p2)\n",
    "            print(p2, end=\", \")\n",
    "            if game not in played:\n",
    "                del ranked[n]\n",
    "                games.append(game)\n",
    "                played.add(game)\n",
    "                print(\"Found\", p2)\n",
    "                break\n",
    "        else:\n",
    "            # Looks like p1 has played every remaining pair.\n",
    "            # In theory, there may be backtracking solutions that fail less often.\n",
    "            # Don't worry about this for now, as the official rules are probably better anyway.\n",
    "            print()\n",
    "            raise RuntimeError(\"Unable to find a game for pair {}\".format(p1))\n",
    "    \n",
    "    return games\n",
    "\n",
    "pair({p:0 for p in range(20)}, set())"
   ]
  },
  {
   "cell_type": "code",
   "execution_count": 32,
   "metadata": {
    "collapsed": false
   },
   "outputs": [],
   "source": [
    "# From itertools recipes\n",
    "def grouper(iterable, n, fillvalue=None):\n",
    "    \"Collect data into fixed-length chunks or blocks\"\n",
    "    # grouper('ABCDEFG', 3, 'x') --> ABC DEF Gxx\"\n",
    "    args = [iter(iterable)] * n\n",
    "    return zip_longest(*args, fillvalue=fillvalue)\n",
    "\n",
    "# A better pairing algorithm - choose the set of pairings (from all possible) that minimises the\n",
    "# total absolute score difference\n",
    "# Better in theory, but WAY too slow to be practical\n",
    "def pair_unusably_slow(scores, played):\n",
    "    print(\"Getting all pairings\")\n",
    "    pairings = [list(grouper(perm, 2)) for perm in permutations(scores.keys())]\n",
    "    print(\"Got {} - trimming\".format(len(pairings)))\n",
    "    pairings = [p for p in pairings if not any(match in played for match in p)]\n",
    "    print(\"Result {}\".format(len(pairings)))\n",
    "    def key(pairing):\n",
    "        total = 0\n",
    "        for p1, p2 in pairing:\n",
    "            total += max(p1,p2) - min(p1, p2) # abs difference\n",
    "        return total\n",
    "    return min(pairings, key=key)"
   ]
  },
  {
   "cell_type": "markdown",
   "metadata": {},
   "source": [
    "We need to simulate playing a game. All we care about is who wins, so we just return the winner. For now, we assume that the pair with the higher number always wins. So the expectation is that the simulation should result in a list of pairs in descending order."
   ]
  },
  {
   "cell_type": "code",
   "execution_count": 33,
   "metadata": {
    "collapsed": true
   },
   "outputs": [],
   "source": [
    "def game(p1, p2):\n",
    "    return max(p1, p2)"
   ]
  },
  {
   "cell_type": "markdown",
   "metadata": {},
   "source": [
    "OK, we now have our procedures for working out the pairings, and playing games. For the simulation, we just do this a set number of times."
   ]
  },
  {
   "cell_type": "code",
   "execution_count": 34,
   "metadata": {
    "collapsed": false
   },
   "outputs": [
    {
     "name": "stdout",
     "output_type": "stream",
     "text": [
      "Round 0: Pairings played: 0 out of 45\n",
      "Ranking: [1, 3, 8, 5, 9, 0, 4, 7, 2, 6]\n",
      "Matching 1... 3, Found 3\n",
      "Matching 8... 5, Found 5\n",
      "Matching 9... 0, Found 0\n",
      "Matching 4... 7, Found 7\n",
      "Matching 2... 6, Found 6\n",
      "Round 1: Pairings played: 5 out of 45\n",
      "Ranking: [4, 0, 1, 2, 5, 7, 8, 3, 9, 6]\n",
      "Matching 4... 0, Found 0\n",
      "Matching 1... 2, Found 2\n",
      "Matching 5... 7, Found 7\n",
      "Matching 8... 3, Found 3\n",
      "Matching 9... 6, Found 6\n",
      "Round 2: Pairings played: 10 out of 45\n",
      "Ranking: [5, 0, 1, 6, 4, 3, 2, 7, 8, 9]\n",
      "Matching 5... 0, Found 0\n",
      "Matching 1... 6, Found 6\n",
      "Matching 4... 3, Found 3\n",
      "Matching 2... 7, Found 7\n",
      "Matching 8... 9, Found 9\n",
      "Round 3: Pairings played: 15 out of 45\n",
      "Ranking: [0, 1, 5, 3, 2, 4, 8, 6, 9, 7]\n",
      "Matching 0... 1, Found 1\n",
      "Matching 5... 3, Found 3\n",
      "Matching 2... 4, Found 4\n",
      "Matching 8... 6, Found 6\n",
      "Matching 9... 7, Found 7\n",
      "Round 4: Pairings played: 20 out of 45\n",
      "Ranking: [0, 3, 1, 2, 6, 5, 8, 7, 4, 9]\n",
      "Matching 0... 3, Found 3\n",
      "Matching 1... 2, 6, 5, Found 5\n",
      "Matching 2... 6, 8, Found 8\n",
      "Matching 6... 7, Found 7\n",
      "Matching 4... 9, Found 9\n"
     ]
    },
    {
     "data": {
      "text/plain": [
       "[(9, 5),\n",
       " (7, 4),\n",
       " (8, 4),\n",
       " (4, 3),\n",
       " (5, 3),\n",
       " (3, 2),\n",
       " (6, 2),\n",
       " (1, 1),\n",
       " (2, 1),\n",
       " (0, 0)]"
      ]
     },
     "execution_count": 34,
     "metadata": {},
     "output_type": "execute_result"
    }
   ],
   "source": [
    "def swiss(num_pairs, num_rounds):\n",
    "    if num_pairs % 2:\n",
    "        raise ValueError(\"An even number of pairs is required (num_pairs={})\".format(num_pairs))\n",
    "    scores = {p:0 for p in range(num_pairs)}\n",
    "    played = set()\n",
    "    \n",
    "    for board in range(num_rounds):\n",
    "        print(\"Round {}: Pairings played: {} out of {}\".format(board, len(played), num_pairs*(num_pairs-1)//2))\n",
    "        try:\n",
    "            games = pair(scores, played)\n",
    "        except RuntimeError:\n",
    "            from collections import defaultdict\n",
    "            d = defaultdict(list)\n",
    "            for p1, p2 in played:\n",
    "                d[p1].append(p2)\n",
    "            for k in sorted(d):\n",
    "                print(k, \"played\", list(sorted(d[k])))\n",
    "            raise\n",
    "        for p1, p2 in games:\n",
    "            winner = game(p1, p2)\n",
    "            scores[winner] += 1\n",
    "            \n",
    "    return scores\n",
    "\n",
    "Counter(swiss(10, 5)).most_common()"
   ]
  }
 ],
 "metadata": {
  "kernelspec": {
   "display_name": "Python 3",
   "language": "python",
   "name": "python3"
  },
  "language_info": {
   "codemirror_mode": {
    "name": "ipython",
    "version": 3
   },
   "file_extension": ".py",
   "mimetype": "text/x-python",
   "name": "python",
   "nbconvert_exporter": "python",
   "pygments_lexer": "ipython3",
   "version": "3.4.3"
  }
 },
 "nbformat": 4,
 "nbformat_minor": 0
}
