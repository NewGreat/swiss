{
 "cells": [
  {
   "cell_type": "markdown",
   "metadata": {},
   "source": [
    "Swiss Pairs Simulation in Python"
   ]
  },
  {
   "cell_type": "markdown",
   "metadata": {},
   "source": [
    "We start with a simple pure-Python model of a tournament. For now, we're not going to worry about how to simulate multiple runs, much less about performance. We just want to get a basic model working, and then we can refine it."
   ]
  },
  {
   "cell_type": "markdown",
   "metadata": {},
   "source": [
    "We need a few imports. The random module for generating random numbers is crucial."
   ]
  },
  {
   "cell_type": "code",
   "execution_count": 10,
   "metadata": {
    "collapsed": true
   },
   "outputs": [],
   "source": [
    "import random\n",
    "from collections import Counter"
   ]
  },
  {
   "cell_type": "code",
   "execution_count": 4,
   "metadata": {
    "collapsed": true
   },
   "outputs": [],
   "source": [
    "# Keep track of the scores - at the start of the tournament, everyone has 0 wins\n",
    "scores = {p:0 for p in range(20)}\n",
    "# Keep track of who has already played who\n",
    "played = set()"
   ]
  },
  {
   "cell_type": "markdown",
   "metadata": {},
   "source": [
    "We need to find opponents for each pair. To do that, we sort pairs by score (and randomly within pairs with the same score),\n",
    "then for each pair in turn assign as opponent the next pair in the list that they have not already played."
   ]
  },
  {
   "cell_type": "code",
   "execution_count": 53,
   "metadata": {
    "collapsed": false
   },
   "outputs": [
    {
     "name": "stdout",
     "output_type": "stream",
     "text": [
      "Ranking: [0, 1, 2, 3, 4, 5, 6, 7, 8, 9, 10, 11, 12, 13, 14, 15, 16, 17, 18, 19]\n",
      "Matching 0... 1, Found 1\n",
      "Matching 2... 3, Found 3\n",
      "Matching 4... 5, Found 5\n",
      "Matching 6... 7, Found 7\n",
      "Matching 8... 9, Found 9\n",
      "Matching 10... 11, Found 11\n",
      "Matching 12... 13, Found 13\n",
      "Matching 14... 15, Found 15\n",
      "Matching 16... 17, Found 17\n",
      "Matching 18... 19, Found 19\n",
      "[(0, 1), (2, 3), (4, 5), (6, 7), (8, 9), (10, 11), (12, 13), (14, 15), (16, 17), (18, 19)]\n"
     ]
    }
   ],
   "source": [
    "def pair(scores, played):\n",
    "    pairs = list(sorted(scores.keys()))\n",
    "    def key(p):\n",
    "        # Rank by score, and then randomly for pairs with the same score\n",
    "        return scores[p] #, random.random()\n",
    "    ranked = list(sorted(pairs, key=key))\n",
    "    games = []\n",
    "    print(\"Ranking:\", ranked)\n",
    "    while ranked:\n",
    "        # Get each pair in turn\n",
    "        p1 = ranked.pop(0)\n",
    "        print(\"Matching\", p1, end=\"... \")\n",
    "        # Find an opponent - the first pair they haven't played yet\n",
    "        for n, p2 in enumerate(ranked):\n",
    "            game = (p1, p2)\n",
    "            print(p2, end=\", \")\n",
    "            if game not in played:\n",
    "                del ranked[n]\n",
    "                games.append(game)\n",
    "                played.add(game)\n",
    "                print(\"Found\", p2)\n",
    "                break\n",
    "        else:\n",
    "            # Looks like p1 has played every remaining pair.\n",
    "            # In theory, there may be backtracking solutions that fail less often.\n",
    "            # Don't worry about this for now, as the official rules are probably better anyway.\n",
    "            print()\n",
    "            raise RuntimeError(\"Unable to find a game for pair {}\".format(p1))\n",
    "    \n",
    "    return games\n",
    "\n",
    "# Try this out - print an initial pairing, then reset the variables for later\n",
    "print(pair({p:0 for p in range(20)}, set()))"
   ]
  },
  {
   "cell_type": "markdown",
   "metadata": {},
   "source": [
    "We need to simulate playing a game. All we care about is who wins, so we just return the winner. For now, we assume that the pair with the higher number always wins. So the expectation is that the simulation should result in a list of pairs in descending order."
   ]
  },
  {
   "cell_type": "code",
   "execution_count": 8,
   "metadata": {
    "collapsed": true
   },
   "outputs": [],
   "source": [
    "def game(p1, p2):\n",
    "    return max(p1, p2)"
   ]
  },
  {
   "cell_type": "markdown",
   "metadata": {},
   "source": [
    "OK, we now have our procedures for working out the pairings, and playing games. For the simulation, we just do this a set number of times."
   ]
  },
  {
   "cell_type": "code",
   "execution_count": 54,
   "metadata": {
    "collapsed": false
   },
   "outputs": [
    {
     "name": "stdout",
     "output_type": "stream",
     "text": [
      "Round 0: Pairings played: 0 out of 45\n",
      "Ranking: [0, 1, 2, 3, 4, 5, 6, 7, 8, 9]\n",
      "Matching 0... 1, Found 1\n",
      "Matching 2... 3, Found 3\n",
      "Matching 4... 5, Found 5\n",
      "Matching 6... 7, Found 7\n",
      "Matching 8... 9, Found 9\n",
      "Round 1: Pairings played: 5 out of 45\n",
      "Ranking: [0, 2, 4, 6, 8, 1, 3, 5, 7, 9]\n",
      "Matching 0... 2, Found 2\n",
      "Matching 4... 6, Found 6\n",
      "Matching 8... 1, Found 1\n",
      "Matching 3... 5, Found 5\n",
      "Matching 7... 9, Found 9\n",
      "Round 2: Pairings played: 10 out of 45\n",
      "Ranking: [0, 4, 1, 2, 3, 6, 7, 8, 5, 9]\n",
      "Matching 0... 4, Found 4\n",
      "Matching 1... 2, Found 2\n",
      "Matching 3... 6, Found 6\n",
      "Matching 7... 8, Found 8\n",
      "Matching 5... 9, Found 9\n",
      "Round 3: Pairings played: 15 out of 45\n",
      "Ranking: [0, 1, 3, 4, 7, 2, 5, 6, 8, 9]\n",
      "Matching 0... 1, 3, Found 3\n",
      "Matching 1... 4, Found 4\n",
      "Matching 7... 2, Found 2\n",
      "Matching 5... 6, Found 6\n",
      "Matching 8... 9, \n",
      "0 played [1, 2, 3, 4]\n",
      "1 played [2, 4]\n",
      "2 played [3]\n",
      "3 played [5, 6]\n",
      "4 played [5, 6]\n",
      "5 played [6, 9]\n",
      "6 played [7]\n",
      "7 played [2, 8, 9]\n",
      "8 played [1, 9]\n"
     ]
    },
    {
     "ename": "RuntimeError",
     "evalue": "Unable to find a game for pair 8",
     "output_type": "error",
     "traceback": [
      "\u001b[1;31m---------------------------------------------------------------------------\u001b[0m",
      "\u001b[1;31mRuntimeError\u001b[0m                              Traceback (most recent call last)",
      "\u001b[1;32m<ipython-input-54-47e71690809d>\u001b[0m in \u001b[0;36m<module>\u001b[1;34m()\u001b[0m\n\u001b[0;32m     24\u001b[0m     \u001b[1;32mreturn\u001b[0m \u001b[0mscores\u001b[0m\u001b[1;33m\u001b[0m\u001b[0m\n\u001b[0;32m     25\u001b[0m \u001b[1;33m\u001b[0m\u001b[0m\n\u001b[1;32m---> 26\u001b[1;33m \u001b[0mCounter\u001b[0m\u001b[1;33m(\u001b[0m\u001b[0mswiss\u001b[0m\u001b[1;33m(\u001b[0m\u001b[1;36m10\u001b[0m\u001b[1;33m,\u001b[0m \u001b[1;36m5\u001b[0m\u001b[1;33m)\u001b[0m\u001b[1;33m)\u001b[0m\u001b[1;33m.\u001b[0m\u001b[0mmost_common\u001b[0m\u001b[1;33m(\u001b[0m\u001b[1;33m)\u001b[0m\u001b[1;33m\u001b[0m\u001b[0m\n\u001b[0m",
      "\u001b[1;32m<ipython-input-54-47e71690809d>\u001b[0m in \u001b[0;36mswiss\u001b[1;34m(num_pairs, num_rounds)\u001b[0m\n\u001b[0;32m      9\u001b[0m         \u001b[0mprint\u001b[0m\u001b[1;33m(\u001b[0m\u001b[1;34m\"Round {}: Pairings played: {} out of {}\"\u001b[0m\u001b[1;33m.\u001b[0m\u001b[0mformat\u001b[0m\u001b[1;33m(\u001b[0m\u001b[0mboard\u001b[0m\u001b[1;33m,\u001b[0m \u001b[0mlen\u001b[0m\u001b[1;33m(\u001b[0m\u001b[0mplayed\u001b[0m\u001b[1;33m)\u001b[0m\u001b[1;33m,\u001b[0m \u001b[0mnum_pairs\u001b[0m\u001b[1;33m*\u001b[0m\u001b[1;33m(\u001b[0m\u001b[0mnum_pairs\u001b[0m\u001b[1;33m-\u001b[0m\u001b[1;36m1\u001b[0m\u001b[1;33m)\u001b[0m\u001b[1;33m//\u001b[0m\u001b[1;36m2\u001b[0m\u001b[1;33m)\u001b[0m\u001b[1;33m)\u001b[0m\u001b[1;33m\u001b[0m\u001b[0m\n\u001b[0;32m     10\u001b[0m         \u001b[1;32mtry\u001b[0m\u001b[1;33m:\u001b[0m\u001b[1;33m\u001b[0m\u001b[0m\n\u001b[1;32m---> 11\u001b[1;33m             \u001b[0mgames\u001b[0m \u001b[1;33m=\u001b[0m \u001b[0mpair\u001b[0m\u001b[1;33m(\u001b[0m\u001b[0mscores\u001b[0m\u001b[1;33m,\u001b[0m \u001b[0mplayed\u001b[0m\u001b[1;33m)\u001b[0m\u001b[1;33m\u001b[0m\u001b[0m\n\u001b[0m\u001b[0;32m     12\u001b[0m         \u001b[1;32mexcept\u001b[0m \u001b[0mRuntimeError\u001b[0m\u001b[1;33m:\u001b[0m\u001b[1;33m\u001b[0m\u001b[0m\n\u001b[0;32m     13\u001b[0m             \u001b[1;32mfrom\u001b[0m \u001b[0mcollections\u001b[0m \u001b[1;32mimport\u001b[0m \u001b[0mdefaultdict\u001b[0m\u001b[1;33m\u001b[0m\u001b[0m\n",
      "\u001b[1;32m<ipython-input-53-be59efe72597>\u001b[0m in \u001b[0;36mpair\u001b[1;34m(scores, played)\u001b[0m\n\u001b[0;32m     26\u001b[0m             \u001b[1;31m# Don't worry about this for now, as the official rules are probably better anyway.\u001b[0m\u001b[1;33m\u001b[0m\u001b[1;33m\u001b[0m\u001b[0m\n\u001b[0;32m     27\u001b[0m             \u001b[0mprint\u001b[0m\u001b[1;33m(\u001b[0m\u001b[1;33m)\u001b[0m\u001b[1;33m\u001b[0m\u001b[0m\n\u001b[1;32m---> 28\u001b[1;33m             \u001b[1;32mraise\u001b[0m \u001b[0mRuntimeError\u001b[0m\u001b[1;33m(\u001b[0m\u001b[1;34m\"Unable to find a game for pair {}\"\u001b[0m\u001b[1;33m.\u001b[0m\u001b[0mformat\u001b[0m\u001b[1;33m(\u001b[0m\u001b[0mp1\u001b[0m\u001b[1;33m)\u001b[0m\u001b[1;33m)\u001b[0m\u001b[1;33m\u001b[0m\u001b[0m\n\u001b[0m\u001b[0;32m     29\u001b[0m \u001b[1;33m\u001b[0m\u001b[0m\n\u001b[0;32m     30\u001b[0m     \u001b[1;32mreturn\u001b[0m \u001b[0mgames\u001b[0m\u001b[1;33m\u001b[0m\u001b[0m\n",
      "\u001b[1;31mRuntimeError\u001b[0m: Unable to find a game for pair 8"
     ]
    }
   ],
   "source": [
    "def swiss(num_pairs, num_rounds):\n",
    "    if num_pairs % 2:\n",
    "        raise ValueError(\"An even number of pairs is required (num_pairs={})\".format(num_pairs))\n",
    "    # if \n",
    "    scores = {p:0 for p in range(num_pairs)}\n",
    "    played = set()\n",
    "    \n",
    "    for board in range(num_rounds):\n",
    "        print(\"Round {}: Pairings played: {} out of {}\".format(board, len(played), num_pairs*(num_pairs-1)//2))\n",
    "        try:\n",
    "            games = pair(scores, played)\n",
    "        except RuntimeError:\n",
    "            from collections import defaultdict\n",
    "            d = defaultdict(list)\n",
    "            for p1, p2 in played:\n",
    "                d[p1].append(p2)\n",
    "            for k in sorted(d):\n",
    "                print(k, \"played\", list(sorted(d[k])))\n",
    "            raise\n",
    "        for p1, p2 in games:\n",
    "            winner = game(p1, p2)\n",
    "            scores[winner] += 1\n",
    "            \n",
    "    return scores\n",
    "\n",
    "Counter(swiss(10, 5)).most_common()"
   ]
  }
 ],
 "metadata": {
  "kernelspec": {
   "display_name": "Python 3",
   "language": "python",
   "name": "python3"
  },
  "language_info": {
   "codemirror_mode": {
    "name": "ipython",
    "version": 3
   },
   "file_extension": ".py",
   "mimetype": "text/x-python",
   "name": "python",
   "nbconvert_exporter": "python",
   "pygments_lexer": "ipython3",
   "version": "3.4.3"
  }
 },
 "nbformat": 4,
 "nbformat_minor": 0
}
